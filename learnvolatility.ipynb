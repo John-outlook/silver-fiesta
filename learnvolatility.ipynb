{
 "cells": [
  {
   "cell_type": "code",
   "execution_count": 7,
   "metadata": {},
   "outputs": [],
   "source": [
    "import numpy as np"
   ]
  },
  {
   "cell_type": "code",
   "execution_count": 8,
   "metadata": {},
   "outputs": [],
   "source": [
    "a = np.array(range(24))"
   ]
  },
  {
   "cell_type": "code",
   "execution_count": 9,
   "metadata": {},
   "outputs": [
    {
     "name": "stdout",
     "output_type": "stream",
     "text": [
      "[ 0  1  2  3  4  5  6  7  8  9 10 11 12 13 14 15 16 17 18 19 20 21 22 23]\n",
      "(24,)\n"
     ]
    }
   ],
   "source": [
    "\n",
    "print(a)    \n",
    "print(a.shape)"
   ]
  },
  {
   "cell_type": "code",
   "execution_count": 10,
   "metadata": {},
   "outputs": [],
   "source": [
    "c = a.reshape(2,3,4)"
   ]
  },
  {
   "cell_type": "code",
   "execution_count": 11,
   "metadata": {},
   "outputs": [
    {
     "data": {
      "text/plain": [
       "array([[[ 0,  1,  2,  3],\n",
       "        [ 4,  5,  6,  7],\n",
       "        [ 8,  9, 10, 11]],\n",
       "\n",
       "       [[12, 13, 14, 15],\n",
       "        [16, 17, 18, 19],\n",
       "        [20, 21, 22, 23]]])"
      ]
     },
     "execution_count": 11,
     "metadata": {},
     "output_type": "execute_result"
    }
   ],
   "source": [
    "c"
   ]
  },
  {
   "cell_type": "code",
   "execution_count": 12,
   "metadata": {},
   "outputs": [],
   "source": [
    "b =a.reshape((4,6))"
   ]
  },
  {
   "cell_type": "code",
   "execution_count": 13,
   "metadata": {},
   "outputs": [
    {
     "data": {
      "text/plain": [
       "array([[ 0,  1,  2,  3,  4,  5],\n",
       "       [ 6,  7,  8,  9, 10, 11],\n",
       "       [12, 13, 14, 15, 16, 17],\n",
       "       [18, 19, 20, 21, 22, 23]])"
      ]
     },
     "execution_count": 13,
     "metadata": {},
     "output_type": "execute_result"
    }
   ],
   "source": [
    "b"
   ]
  },
  {
   "cell_type": "code",
   "execution_count": 14,
   "metadata": {},
   "outputs": [
    {
     "data": {
      "text/plain": [
       "<Figure size 1000x600 with 0 Axes>"
      ]
     },
     "execution_count": 14,
     "metadata": {},
     "output_type": "execute_result"
    },
    {
     "data": {
      "text/plain": [
       "<Figure size 1000x600 with 0 Axes>"
      ]
     },
     "metadata": {},
     "output_type": "display_data"
    }
   ],
   "source": [
    "import matplotlib.pyplot as plt\n",
    "import seaborn as sns\n",
    "import matplotlib\n",
    "\n",
    "matplotlib.rcParams['font.family'] = 'serif'\n",
    "matplotlib.rcParams['font.serif'] = ['Times New Roman']\n",
    "plt.figure(figsize=(10, 6))\n",
    "\n"
   ]
  },
  {
   "cell_type": "code",
   "execution_count": 15,
   "metadata": {},
   "outputs": [
    {
     "data": {
      "text/plain": [
       "<Figure size 1000x600 with 0 Axes>"
      ]
     },
     "execution_count": 15,
     "metadata": {},
     "output_type": "execute_result"
    },
    {
     "data": {
      "text/plain": [
       "<Figure size 1000x600 with 0 Axes>"
      ]
     },
     "metadata": {},
     "output_type": "display_data"
    }
   ],
   "source": [
    "import matplotlib.pyplot as plt\n",
    "import seaborn as sns\n",
    "import matplotlib\n",
    "\n",
    "matplotlib.rcParams['font.family'] = 'serif'\n",
    "plt.figure(figsize=(10, 6))\n",
    "\n"
   ]
  },
  {
   "cell_type": "code",
   "execution_count": 16,
   "metadata": {},
   "outputs": [],
   "source": [
    "data =np.random.standard_normal((5,100))"
   ]
  },
  {
   "cell_type": "code",
   "execution_count": 17,
   "metadata": {},
   "outputs": [
    {
     "data": {
      "text/plain": [
       "0.01408303008377547"
      ]
     },
     "execution_count": 17,
     "metadata": {},
     "output_type": "execute_result"
    }
   ],
   "source": [
    "data.mean()"
   ]
  },
  {
   "cell_type": "code",
   "execution_count": 18,
   "metadata": {},
   "outputs": [
    {
     "data": {
      "text/plain": [
       "0.9817756196580616"
      ]
     },
     "execution_count": 18,
     "metadata": {},
     "output_type": "execute_result"
    }
   ],
   "source": [
    "data.std()"
   ]
  },
  {
   "cell_type": "code",
   "execution_count": 19,
   "metadata": {},
   "outputs": [],
   "source": [
    "data =data -data.mean()"
   ]
  },
  {
   "cell_type": "code",
   "execution_count": 20,
   "metadata": {},
   "outputs": [
    {
     "data": {
      "text/plain": [
       "array([[ 4.16826154e-01,  1.59748248e-01,  1.12464478e-01,\n",
       "         7.60952878e-01, -7.54143143e-01,  4.39460885e-01,\n",
       "        -1.08996241e+00,  1.05443335e+00,  3.08802616e-02,\n",
       "         5.56386139e-01, -9.54258821e-01,  8.36032406e-01,\n",
       "         7.48906869e-01, -8.99093184e-01,  4.60969472e-01,\n",
       "         1.06792397e+00,  3.17226825e+00, -3.22022635e-01,\n",
       "         2.07641839e-01, -1.14873691e+00,  1.18309031e+00,\n",
       "        -1.72942503e+00,  1.07242334e+00, -7.47197486e-01,\n",
       "         3.51943981e-01,  3.03812299e-01, -4.58131646e-01,\n",
       "        -7.33709315e-01,  1.01359840e+00, -1.14059283e+00,\n",
       "        -2.83881352e-01,  6.87439510e-01,  2.26876135e-01,\n",
       "        -4.88023846e-01,  1.47102950e+00, -6.20727508e-01,\n",
       "        -1.34749610e+00, -1.50433509e+00, -8.98475580e-01,\n",
       "         9.57996167e-01, -7.52626233e-01, -5.28134191e-01,\n",
       "        -1.70429954e+00,  1.74002696e-01,  1.94152312e-01,\n",
       "         4.32443614e-01, -1.10046203e+00,  5.47799001e-01,\n",
       "        -1.16579387e+00, -1.01080273e+00, -1.18252298e-01,\n",
       "        -2.64607025e-01, -2.08380760e-01,  1.28813022e-01,\n",
       "         4.59678652e-01,  1.83866186e+00,  4.54013259e-01,\n",
       "         1.36516276e+00, -1.00866425e+00, -1.98973945e+00,\n",
       "        -2.92241617e+00,  2.52504414e-01, -2.48413991e-01,\n",
       "         1.37205329e+00,  8.87863300e-01, -8.42233376e-01,\n",
       "        -1.02894986e+00,  1.67052454e+00, -3.19776794e-01,\n",
       "         1.78780901e-01,  1.31255899e+00, -2.95754793e-01,\n",
       "        -1.91787286e+00, -1.58829467e-01, -5.34878034e-01,\n",
       "        -1.32733720e+00,  1.59395804e-01,  7.92247035e-01,\n",
       "        -5.10197336e-01,  8.14618031e-01,  2.33966425e+00,\n",
       "         1.48501927e+00, -7.57856406e-01,  1.47373572e+00,\n",
       "         4.29135363e-01,  5.22230105e-01,  5.67488874e-02,\n",
       "         9.34723680e-01,  7.40131481e-01, -4.84536562e-01,\n",
       "         3.93963461e-01,  2.26158290e-01, -7.07806656e-02,\n",
       "        -7.01347587e-01,  1.10025304e+00,  1.58528571e+00,\n",
       "        -8.34853263e-01,  1.35790621e+00, -1.14412868e-01,\n",
       "        -1.99198562e-01],\n",
       "       [ 1.13101064e+00,  1.08276833e-01,  3.27394611e-01,\n",
       "         9.66287434e-01,  3.29760914e-01, -8.50442702e-01,\n",
       "        -7.94821356e-01, -2.08598941e+00,  1.17057709e+00,\n",
       "        -1.11838510e+00, -5.58773102e-01, -8.81440406e-01,\n",
       "        -9.11122161e-01, -4.08883253e-01, -1.38625342e+00,\n",
       "        -9.27605265e-01,  2.10575148e+00,  3.33137438e-01,\n",
       "         6.19088590e-01, -6.63079290e-01, -7.62911787e-01,\n",
       "         2.13195364e-01, -3.83527828e-02, -1.67971538e+00,\n",
       "         7.92369475e-01, -4.26372312e-01, -4.91098836e-01,\n",
       "        -6.05840691e-01, -6.92300079e-01, -1.54823045e+00,\n",
       "         6.81767133e-01,  6.08191090e-01,  9.25549206e-01,\n",
       "         3.87645390e-01,  1.54525184e+00, -1.19281385e+00,\n",
       "        -3.88333565e-01,  1.38940959e-01, -8.86019014e-02,\n",
       "        -2.35904073e-01, -6.86985521e-02, -4.72819597e-01,\n",
       "         2.29679947e-01, -4.77747422e-01,  8.77858892e-01,\n",
       "        -6.63451388e-01,  1.02704657e+00,  2.14692312e-01,\n",
       "        -6.34794100e-01, -3.94772979e-01,  1.05143976e+00,\n",
       "        -4.37958476e-01,  1.62979799e+00, -7.47510180e-01,\n",
       "        -1.44909164e+00, -9.70737655e-01, -4.13337519e-01,\n",
       "        -2.62096599e+00, -1.21138124e+00,  1.45498678e+00,\n",
       "         1.50075283e+00,  4.28777131e-01, -8.49444043e-02,\n",
       "         7.18308130e-01,  7.20696790e-01, -2.70533119e-01,\n",
       "         9.67499834e-01,  2.93109163e-01, -1.76811938e+00,\n",
       "        -2.84439152e+00,  1.42856715e-01,  1.32103038e+00,\n",
       "        -5.62709496e-02,  5.37504803e-01, -7.49844740e-01,\n",
       "         2.13694349e-01,  4.91130379e-01,  7.19716149e-01,\n",
       "        -1.71535450e+00,  8.22428741e-01,  1.31388927e+00,\n",
       "         4.22802437e-01, -1.49713852e-02,  2.40678184e+00,\n",
       "         1.69322466e+00, -4.63205034e-02, -6.22508913e-01,\n",
       "         4.07899877e-01,  1.86529644e+00,  3.50451633e-01,\n",
       "        -2.82627221e-01, -2.48820439e-01, -6.58282394e-01,\n",
       "        -7.14816632e-01,  1.19412658e+00,  3.80185877e-01,\n",
       "         9.08580997e-01,  2.13509903e-01, -4.90486562e-01,\n",
       "        -9.23549723e-01],\n",
       "       [-1.09633828e+00,  1.22554830e+00,  2.50628980e+00,\n",
       "         1.11866481e+00,  2.15775283e-01, -8.53623996e-02,\n",
       "         1.79555314e+00,  1.38180055e+00,  8.60634722e-01,\n",
       "         2.92540223e-01, -4.85242565e-01, -5.48161692e-01,\n",
       "        -2.65451666e+00, -5.13164839e-01,  8.91326597e-01,\n",
       "        -1.20869224e+00,  1.03475905e+00, -1.20383137e+00,\n",
       "        -4.11316097e-01, -1.49584462e+00,  2.99267128e-01,\n",
       "        -3.41089231e-01,  1.06238198e+00, -1.36481763e-01,\n",
       "        -4.40098007e-01, -5.20709130e-01, -4.32320661e-01,\n",
       "         1.10087994e+00,  9.93804636e-01,  3.11036554e-01,\n",
       "         5.91488813e-01,  2.41617936e+00, -2.56615785e-01,\n",
       "        -1.01023901e+00,  2.93481766e-01, -1.08815508e-01,\n",
       "        -2.38668767e-01,  4.45982292e-01, -1.28609736e+00,\n",
       "        -1.27143587e+00, -4.96089569e-01,  5.47195359e-01,\n",
       "        -2.26849070e-02, -1.65027784e-01, -2.01485836e+00,\n",
       "        -3.21999785e-01, -5.85951730e-02,  1.10513218e+00,\n",
       "         1.46443615e+00, -1.82195003e+00, -1.14749952e+00,\n",
       "        -2.70741185e+00,  1.24988468e+00,  4.51452740e-01,\n",
       "         6.11092489e-01, -8.75655978e-02,  3.38464889e-02,\n",
       "        -1.03439101e+00, -5.58441647e-01, -2.27520971e-02,\n",
       "         2.72831471e-01,  1.81672903e+00, -1.13016382e+00,\n",
       "        -3.02797196e+00,  8.55660772e-01, -1.25729410e+00,\n",
       "        -6.90089079e-01, -2.21901219e-01, -5.65194554e-01,\n",
       "        -7.46440685e-01,  1.91369033e-01,  2.12903098e+00,\n",
       "         1.82418537e-01,  1.79114464e+00, -2.11859011e-01,\n",
       "         9.57153328e-01, -7.57998282e-02, -1.31673039e+00,\n",
       "         1.83822460e+00, -5.97183589e-01, -2.96532229e-01,\n",
       "        -3.07963596e-01, -7.07204548e-01, -3.00921247e-01,\n",
       "         1.25425118e+00, -3.85969154e-01,  1.18737465e-01,\n",
       "         1.35733229e+00,  2.85065372e-01,  1.77524986e+00,\n",
       "        -1.15963191e-01, -2.98813218e-02,  6.57121023e-01,\n",
       "        -5.25560013e-01,  5.82422646e-01, -9.33838883e-01,\n",
       "        -2.45444855e-01,  2.97060912e-01,  2.03642432e+00,\n",
       "         4.60023989e-01],\n",
       "       [-8.51505190e-01, -7.07584119e-01,  1.94923429e+00,\n",
       "         6.87130002e-02,  1.34298394e+00,  9.95372766e-01,\n",
       "        -5.84790866e-01, -7.31554467e-01,  2.05506284e+00,\n",
       "         9.49900586e-01,  9.15188095e-01,  3.57271549e-01,\n",
       "         1.09798766e+00,  5.59692892e-01,  8.04826246e-01,\n",
       "         1.13261648e-01,  1.56699384e-01,  4.94598594e-02,\n",
       "         2.00649206e-01, -2.61088524e-01, -1.57194489e+00,\n",
       "        -1.16817753e+00, -5.21621580e-01, -2.12946227e-01,\n",
       "        -1.96724731e-01,  2.20437603e-01, -6.76691445e-01,\n",
       "        -1.20255262e+00,  1.83753863e-01, -7.81822562e-02,\n",
       "        -1.69076616e-01, -2.52945858e-01, -1.10590528e+00,\n",
       "         5.95383193e-01,  3.84863581e-03, -1.04130155e+00,\n",
       "        -6.80154817e-02, -2.43035719e-02,  7.46095104e-01,\n",
       "         3.79818537e-01, -1.58550455e+00,  1.40466505e+00,\n",
       "        -9.42950946e-01, -1.02317269e+00,  1.85703376e-01,\n",
       "        -1.66123685e+00, -7.85546454e-01, -8.57242181e-01,\n",
       "         4.05448017e-01,  9.16182267e-01,  2.42249142e+00,\n",
       "        -6.49681764e-01, -5.55422569e-01,  1.93876199e-01,\n",
       "         4.59720531e-01, -1.61782950e+00,  2.79251589e-01,\n",
       "        -1.29890164e-01, -4.86569591e-02, -1.28246279e+00,\n",
       "        -1.16266395e+00,  1.66123236e+00, -8.84723418e-01,\n",
       "         9.93115290e-02,  1.62765181e+00,  5.06180774e-01,\n",
       "        -1.67640134e+00,  5.70170576e-02, -1.04373185e+00,\n",
       "        -3.54739535e-01,  6.54236232e-01, -6.17649007e-02,\n",
       "         5.83792272e-01, -4.57929318e-01,  3.34893746e-01,\n",
       "        -7.85700643e-02,  1.08706136e+00, -2.36529732e-02,\n",
       "        -1.08662226e+00, -3.36119071e-04, -3.10833646e-01,\n",
       "        -2.49455363e-01,  7.44483216e-01,  1.64043894e+00,\n",
       "        -1.61441951e-02,  1.04436284e+00, -3.65605785e-01,\n",
       "        -8.32643887e-02, -1.11733706e-01,  1.25759351e+00,\n",
       "         8.80008493e-01,  9.57762303e-01, -2.90123409e-01,\n",
       "        -1.22215211e-01, -3.87699933e-01, -5.67050225e-02,\n",
       "         1.07731117e+00, -2.28384695e-01, -1.17686052e+00,\n",
       "         1.04943618e+00],\n",
       "       [ 4.35572601e-01,  1.18313531e+00, -1.93507560e+00,\n",
       "         9.85337217e-01,  1.97172479e+00,  1.77466986e+00,\n",
       "        -7.65383273e-01, -1.02075803e+00,  1.04629740e+00,\n",
       "        -1.21252527e+00, -2.00425634e-01, -1.56452008e+00,\n",
       "        -1.60444073e+00,  2.58475141e-01, -5.33590279e-02,\n",
       "         1.72397505e+00,  4.41729434e-03, -1.68464026e+00,\n",
       "         1.89328418e+00, -7.48502074e-01, -1.28911086e+00,\n",
       "        -7.29920238e-01, -5.41231715e-01,  8.29939971e-01,\n",
       "         5.42199490e-01, -7.33541489e-02,  1.16119172e+00,\n",
       "         7.47169289e-01,  7.18606515e-01, -3.74350240e-01,\n",
       "        -1.35498756e-01,  4.20387514e-01, -3.68182307e-01,\n",
       "         1.40905297e+00,  3.28299597e+00, -1.92259502e+00,\n",
       "        -1.07531584e+00,  1.11035537e+00, -1.05372437e+00,\n",
       "         1.10315391e+00,  3.41439764e-01,  5.10617064e-01,\n",
       "        -5.85571248e-01, -1.30993088e+00, -2.25388612e-01,\n",
       "        -5.88377955e-01, -4.26560323e-01, -7.08928345e-02,\n",
       "         6.47932561e-01, -1.70053979e-01, -4.93650593e-02,\n",
       "        -1.35700998e+00, -6.60648502e-01,  1.62600417e+00,\n",
       "         4.68947880e-01,  3.36516546e-01, -3.78675351e-01,\n",
       "        -1.61757535e+00, -8.40648802e-01,  1.67187507e+00,\n",
       "         1.16852266e-02, -5.60197637e-01, -1.20732763e+00,\n",
       "        -1.23195018e+00,  6.71197150e-01, -6.61166951e-01,\n",
       "        -2.91090866e-01,  4.55786815e-01, -1.52879506e+00,\n",
       "        -6.33350838e-01,  2.08488078e-01,  9.45256874e-02,\n",
       "        -4.08618610e-01, -1.03502777e+00,  1.51469659e-01,\n",
       "        -1.46618249e+00,  1.05785177e-01,  9.75533222e-01,\n",
       "        -5.41155595e-01,  5.01496003e-01,  4.09222100e-01,\n",
       "         6.01126618e-01,  5.30975374e-01, -1.63554543e+00,\n",
       "        -1.14872143e+00, -4.66291149e-01, -1.84058721e-01,\n",
       "        -1.54565782e+00,  7.38581183e-02, -7.71589779e-01,\n",
       "         1.31706231e+00,  2.09886972e+00,  1.34698532e-01,\n",
       "        -2.21072660e-01,  1.28532080e-01, -1.39198084e+00,\n",
       "        -9.37023140e-01,  1.00940774e+00, -9.10793800e-01,\n",
       "        -8.60619909e-01]])"
      ]
     },
     "execution_count": 20,
     "metadata": {},
     "output_type": "execute_result"
    }
   ],
   "source": [
    "data/data.std()\n"
   ]
  },
  {
   "cell_type": "code",
   "execution_count": null,
   "metadata": {},
   "outputs": [],
   "source": [
    "plt.plot(data)"
   ]
  },
  {
   "cell_type": "code",
   "execution_count": 22,
   "metadata": {},
   "outputs": [
    {
     "data": {
      "text/plain": [
       "array([[ 4.09229756e-01,  1.56836935e-01,  1.10414882e-01,\n",
       "         7.47084983e-01, -7.40399352e-01,  4.31451983e-01,\n",
       "        -1.07009852e+00,  1.03521695e+00,  3.03174880e-02,\n",
       "         5.46246346e-01, -9.36868045e-01,  8.20796233e-01,\n",
       "         7.35258505e-01, -8.82707768e-01,  4.52568589e-01,\n",
       "         1.04846172e+00,  3.11445563e+00, -3.16153972e-01,\n",
       "         2.03857695e-01, -1.12780189e+00,  1.16152923e+00,\n",
       "        -1.69790733e+00,  1.05287909e+00, -7.33580275e-01,\n",
       "         3.45530020e-01,  2.98275508e-01, -4.49782480e-01,\n",
       "        -7.20337918e-01,  9.95126199e-01, -1.11980624e+00,\n",
       "        -2.78707791e-01,  6.74911351e-01,  2.22741458e-01,\n",
       "        -4.79129914e-01,  1.44422090e+00, -6.09415134e-01,\n",
       "        -1.32293882e+00, -1.47691951e+00, -8.82101419e-01,\n",
       "         9.40537280e-01, -7.38910086e-01, -5.18509272e-01,\n",
       "        -1.67323974e+00,  1.70831605e-01,  1.90614006e-01,\n",
       "         4.24562597e-01, -1.08040679e+00,  5.37815704e-01,\n",
       "        -1.14454799e+00, -9.92381478e-01, -1.16097223e-01,\n",
       "        -2.59784726e-01, -2.04583150e-01,  1.26465484e-01,\n",
       "         4.51301293e-01,  1.80515339e+00,  4.45739149e-01,\n",
       "         1.34028351e+00, -9.90281966e-01, -1.95347768e+00,\n",
       "        -2.86915695e+00,  2.47902677e-01, -2.43886800e-01,\n",
       "         1.34704847e+00,  8.71682542e-01, -8.26884194e-01,\n",
       "        -1.01019789e+00,  1.64008026e+00, -3.13949060e-01,\n",
       "         1.75522730e-01,  1.28863841e+00, -2.90364846e-01,\n",
       "        -1.88292082e+00, -1.55934899e-01, -5.25130214e-01,\n",
       "        -1.30314731e+00,  1.56490914e-01,  7.77808824e-01,\n",
       "        -5.00899305e-01,  7.99772123e-01,  2.29702532e+00,\n",
       "         1.45795571e+00, -7.44044942e-01,  1.44687780e+00,\n",
       "         4.21314637e-01,  5.12712785e-01,  5.57146741e-02,\n",
       "         9.17688920e-01,  7.26643043e-01, -4.75706184e-01,\n",
       "         3.86783721e-01,  2.22036695e-01, -6.94907318e-02,\n",
       "        -6.88565961e-01,  1.08020161e+00,  1.55639486e+00,\n",
       "        -8.19638580e-01,  1.33315921e+00, -1.12327765e-01,\n",
       "        -1.95568292e-01],\n",
       "       [ 1.11039867e+00,  1.06303555e-01,  3.21428047e-01,\n",
       "         9.48677445e-01,  3.23751226e-01, -8.34943911e-01,\n",
       "        -7.80336230e-01, -2.04797354e+00,  1.14924405e+00,\n",
       "        -1.09800322e+00, -5.48589808e-01, -8.65376701e-01,\n",
       "        -8.94517524e-01, -4.01431609e-01, -1.36098981e+00,\n",
       "        -9.10700234e-01,  2.06737546e+00,  3.27066214e-01,\n",
       "         6.07806084e-01, -6.50995081e-01, -7.49008192e-01,\n",
       "         2.09310011e-01, -3.76538271e-02, -1.64910361e+00,\n",
       "         7.77929032e-01, -4.18601941e-01, -4.82148864e-01,\n",
       "        -5.94799620e-01, -6.79683339e-01, -1.52001491e+00,\n",
       "         6.69342350e-01,  5.97107185e-01,  9.08681646e-01,\n",
       "         3.80580793e-01,  1.51709058e+00, -1.17107556e+00,\n",
       "        -3.81256426e-01,  1.36408846e-01, -8.69871866e-02,\n",
       "        -2.31604868e-01, -6.74465635e-02, -4.64202753e-01,\n",
       "         2.25494173e-01, -4.69040771e-01,  8.61860457e-01,\n",
       "        -6.51360397e-01,  1.00832929e+00,  2.10779678e-01,\n",
       "        -6.23225371e-01, -3.87578486e-01,  1.03227792e+00,\n",
       "        -4.29976955e-01,  1.60009593e+00, -7.33887270e-01,\n",
       "        -1.42268284e+00, -9.53046563e-01, -4.05804699e-01,\n",
       "        -2.57320051e+00, -1.18930457e+00,  1.42847055e+00,\n",
       "         1.47340254e+00,  4.20962933e-01, -8.33963451e-02,\n",
       "         7.05217409e-01,  7.07562538e-01, -2.65602821e-01,\n",
       "         9.49867749e-01,  2.87767430e-01, -1.73589650e+00,\n",
       "        -2.79255425e+00,  1.40253240e-01,  1.29695542e+00,\n",
       "        -5.52454464e-02,  5.27709111e-01, -7.36179284e-01,\n",
       "         2.09799901e-01,  4.82179832e-01,  7.06599768e-01,\n",
       "        -1.68409323e+00,  8.07440487e-01,  1.28994445e+00,\n",
       "         4.15097125e-01, -1.46985409e-02,  2.36291973e+00,\n",
       "         1.66236669e+00, -4.54763409e-02, -6.11164074e-01,\n",
       "         4.00466155e-01,  1.83130256e+00,  3.44064869e-01,\n",
       "        -2.77476515e-01, -2.44285841e-01, -6.46285605e-01,\n",
       "        -7.01789542e-01,  1.17236436e+00,  3.73257225e-01,\n",
       "         8.92022671e-01,  2.09618818e-01, -4.81547748e-01,\n",
       "        -9.06718602e-01],\n",
       "       [-1.07635819e+00,  1.20321344e+00,  2.46061423e+00,\n",
       "         1.09827783e+00,  2.11842913e-01, -8.38067228e-02,\n",
       "         1.76283030e+00,  1.35661809e+00,  8.44950187e-01,\n",
       "         2.87208859e-01, -4.76399320e-01, -5.38171785e-01,\n",
       "        -2.60613974e+00, -5.03812728e-01,  8.75082722e-01,\n",
       "        -1.18666458e+00,  1.01590121e+00, -1.18189229e+00,\n",
       "        -4.03820116e-01, -1.46858378e+00,  2.93813170e-01,\n",
       "        -3.34873091e-01,  1.04302073e+00, -1.33994468e-01,\n",
       "        -4.32077494e-01, -5.11219528e-01, -4.24441885e-01,\n",
       "         1.08081708e+00,  9.75693162e-01,  3.05368106e-01,\n",
       "         5.80709296e-01,  2.37214598e+00, -2.51939121e-01,\n",
       "        -9.91828030e-01,  2.88133242e-01, -1.06832413e-01,\n",
       "        -2.34319176e-01,  4.37854541e-01, -1.26265904e+00,\n",
       "        -1.24826474e+00, -4.87048644e-01,  5.37223062e-01,\n",
       "        -2.22714886e-02, -1.62020255e-01, -1.97813881e+00,\n",
       "        -3.16131539e-01, -5.75273123e-02,  1.08499183e+00,\n",
       "         1.43774771e+00, -1.78874612e+00, -1.12658706e+00,\n",
       "        -2.65807095e+00,  1.22710630e+00,  4.43225294e-01,\n",
       "         5.99955707e-01, -8.59697690e-02,  3.32296576e-02,\n",
       "        -1.01553988e+00, -5.48264394e-01, -2.23374542e-02,\n",
       "         2.67859286e-01,  1.78362027e+00, -1.10956728e+00,\n",
       "        -2.97278904e+00,  8.40066885e-01, -1.23438069e+00,\n",
       "        -6.77512633e-01, -2.17857206e-01, -5.54894233e-01,\n",
       "        -7.32837266e-01,  1.87881451e-01,  2.09023071e+00,\n",
       "         1.79094072e-01,  1.75850214e+00, -2.07998012e-01,\n",
       "         9.39709802e-01, -7.44184233e-02, -1.29273380e+00,\n",
       "         1.80472410e+00, -5.86300288e-01, -2.91128113e-01,\n",
       "        -3.02351150e-01, -6.94316183e-01, -2.95437143e-01,\n",
       "         1.23139323e+00, -3.78935105e-01,  1.16573548e-01,\n",
       "         1.33259575e+00,  2.79870233e-01,  1.74289703e+00,\n",
       "        -1.13849834e-01, -2.93367533e-02,  6.45145399e-01,\n",
       "        -5.15982008e-01,  5.71808354e-01, -9.16820248e-01,\n",
       "        -2.40971775e-01,  2.91647161e-01,  1.99931175e+00,\n",
       "         4.51640337e-01],\n",
       "       [-8.35987035e-01, -6.94688837e-01,  1.91371070e+00,\n",
       "         6.74607484e-02,  1.31850889e+00,  9.77232714e-01,\n",
       "        -5.74133415e-01, -7.18222340e-01,  2.01761059e+00,\n",
       "         9.32589236e-01,  8.98509359e-01,  3.50760496e-01,\n",
       "         1.07797751e+00,  5.49492836e-01,  7.90158786e-01,\n",
       "         1.11197525e-01,  1.53843635e-01,  4.85584841e-02,\n",
       "         1.96992498e-01, -2.56330347e-01, -1.54329717e+00,\n",
       "        -1.14688821e+00, -5.12115350e-01, -2.09065414e-01,\n",
       "        -1.93139545e-01,  2.16420264e-01, -6.64359163e-01,\n",
       "        -1.18063684e+00,  1.80405063e-01, -7.67574331e-02,\n",
       "        -1.65995299e-01, -2.48336076e-01, -1.08575084e+00,\n",
       "         5.84532703e-01,  3.77849681e-03, -1.02232448e+00,\n",
       "        -6.67759417e-02, -2.38606543e-02,  7.32497983e-01,\n",
       "         3.72896579e-01, -1.55660972e+00,  1.37906590e+00,\n",
       "        -9.25766250e-01, -1.00452600e+00,  1.82319047e-01,\n",
       "        -1.63096184e+00, -7.71230357e-01, -8.41619474e-01,\n",
       "         3.98058978e-01,  8.99485413e-01,  2.37834302e+00,\n",
       "        -6.37841717e-01, -5.45300337e-01,  1.90342926e-01,\n",
       "         4.51342409e-01, -1.58834556e+00,  2.74162402e-01,\n",
       "        -1.27522996e-01, -4.77702162e-02, -1.25909070e+00,\n",
       "        -1.14147512e+00,  1.63095743e+00, -8.68599882e-01,\n",
       "         9.75016379e-02,  1.59798886e+00,  4.96955943e-01,\n",
       "        -1.64584997e+00,  5.59779570e-02, -1.02471048e+00,\n",
       "        -3.48274627e-01,  6.42313182e-01, -6.06392737e-02,\n",
       "         5.73153020e-01, -4.49583840e-01,  3.28790515e-01,\n",
       "        -7.71381736e-02,  1.06725034e+00, -2.32219124e-02,\n",
       "        -1.06681925e+00, -3.29993509e-04, -3.05168895e-01,\n",
       "        -2.44909194e-01,  7.30915471e-01,  1.61054296e+00,\n",
       "        -1.58499771e-02,  1.02532998e+00, -3.58942846e-01,\n",
       "        -8.17469468e-02, -1.09697429e-01,  1.23467465e+00,\n",
       "         8.63970883e-01,  9.40307678e-01, -2.84836090e-01,\n",
       "        -1.19987914e-01, -3.80634342e-01, -5.56716086e-02,\n",
       "         1.05767784e+00, -2.24222525e-01, -1.15541297e+00,\n",
       "         1.03031085e+00],\n",
       "       [ 4.27634561e-01,  1.16157340e+00, -1.89981004e+00,\n",
       "         9.67380057e-01,  1.93579133e+00,  1.74232760e+00,\n",
       "        -7.51434637e-01, -1.00215535e+00,  1.02722928e+00,\n",
       "        -1.19042775e+00, -1.96773001e-01, -1.53600767e+00,\n",
       "        -1.57520079e+00,  2.53764592e-01, -5.23865927e-02,\n",
       "         1.69255667e+00,  4.33679189e-03, -1.65393873e+00,\n",
       "         1.85878025e+00, -7.34861088e-01, -1.26561761e+00,\n",
       "        -7.16617894e-01, -5.31368103e-01,  8.14814830e-01,\n",
       "         5.32318240e-01, -7.20173150e-02,  1.14002972e+00,\n",
       "         7.33552591e-01,  7.05510357e-01, -3.67527939e-01,\n",
       "        -1.33029375e-01,  4.12726212e-01, -3.61472412e-01,\n",
       "         1.38337386e+00,  3.22316541e+00, -1.88755691e+00,\n",
       "        -1.05571888e+00,  1.09011983e+00, -1.03452090e+00,\n",
       "         1.08304962e+00,  3.35217236e-01,  5.01311385e-01,\n",
       "        -5.74899574e-01, -1.28605820e+00, -2.21281045e-01,\n",
       "        -5.77655131e-01, -4.18786526e-01, -6.96008565e-02,\n",
       "         6.36124391e-01, -1.66954850e-01, -4.84654117e-02,\n",
       "        -1.33227931e+00, -6.48608593e-01,  1.59637125e+00,\n",
       "         4.60401596e-01,  3.30383740e-01, -3.71774227e-01,\n",
       "        -1.58809604e+00, -8.25328499e-01,  1.64140618e+00,\n",
       "         1.14722705e-02, -5.49988382e-01, -1.18532483e+00,\n",
       "        -1.20949865e+00,  6.58964998e-01, -6.49117593e-01,\n",
       "        -2.85785916e-01,  4.47480382e-01, -1.50093372e+00,\n",
       "        -6.21808411e-01,  2.04688512e-01,  9.28030154e-02,\n",
       "        -4.01171789e-01, -1.01616503e+00,  1.48709218e-01,\n",
       "        -1.43946222e+00,  1.03857308e-01,  9.57754733e-01,\n",
       "        -5.31293369e-01,  4.92356550e-01,  4.01764281e-01,\n",
       "         5.90171458e-01,  5.21298677e-01, -1.60573863e+00,\n",
       "        -1.12778669e+00, -4.57793282e-01, -1.80704364e-01,\n",
       "        -1.51748917e+00,  7.25120999e-02, -7.57528034e-01,\n",
       "         1.29305967e+00,  2.06061912e+00,  1.32243735e-01,\n",
       "        -2.17043748e-01,  1.26189662e-01, -1.36661286e+00,\n",
       "        -9.19946473e-01,  9.91011914e-01, -8.94195148e-01,\n",
       "        -8.44935645e-01]])"
      ]
     },
     "execution_count": 22,
     "metadata": {},
     "output_type": "execute_result"
    }
   ],
   "source": [
    "data[:5]\n"
   ]
  },
  {
   "cell_type": "code",
   "execution_count": null,
   "metadata": {},
   "outputs": [],
   "source": [
    "plt.plot(data.cumsum())"
   ]
  },
  {
   "cell_type": "code",
   "execution_count": 27,
   "metadata": {},
   "outputs": [
    {
     "data": {
      "text/plain": [
       "[<matplotlib.lines.Line2D at 0x77d4d62d0c40>]"
      ]
     },
     "execution_count": 27,
     "metadata": {},
     "output_type": "execute_result"
    },
    {
     "name": "stderr",
     "output_type": "stream",
     "text": [
      "findfont: Generic family 'serif' not found because none of the following families were found: Times New Roman\n",
      "findfont: Generic family 'serif' not found because none of the following families were found: Times New Roman\n",
      "findfont: Generic family 'serif' not found because none of the following families were found: Times New Roman\n",
      "findfont: Generic family 'serif' not found because none of the following families were found: Times New Roman\n",
      "findfont: Generic family 'serif' not found because none of the following families were found: Times New Roman\n",
      "findfont: Generic family 'serif' not found because none of the following families were found: Times New Roman\n",
      "findfont: Generic family 'serif' not found because none of the following families were found: Times New Roman\n",
      "findfont: Generic family 'serif' not found because none of the following families were found: Times New Roman\n",
      "findfont: Generic family 'serif' not found because none of the following families were found: Times New Roman\n",
      "findfont: Generic family 'serif' not found because none of the following families were found: Times New Roman\n",
      "findfont: Generic family 'serif' not found because none of the following families were found: Times New Roman\n",
      "findfont: Generic family 'serif' not found because none of the following families were found: Times New Roman\n",
      "findfont: Generic family 'serif' not found because none of the following families were found: Times New Roman\n",
      "findfont: Generic family 'serif' not found because none of the following families were found: Times New Roman\n",
      "findfont: Generic family 'serif' not found because none of the following families were found: Times New Roman\n",
      "findfont: Generic family 'serif' not found because none of the following families were found: Times New Roman\n",
      "findfont: Generic family 'serif' not found because none of the following families were found: Times New Roman\n",
      "findfont: Generic family 'serif' not found because none of the following families were found: Times New Roman\n",
      "findfont: Generic family 'serif' not found because none of the following families were found: Times New Roman\n",
      "findfont: Generic family 'serif' not found because none of the following families were found: Times New Roman\n",
      "findfont: Generic family 'serif' not found because none of the following families were found: Times New Roman\n",
      "findfont: Generic family 'serif' not found because none of the following families were found: Times New Roman\n",
      "findfont: Generic family 'serif' not found because none of the following families were found: Times New Roman\n",
      "findfont: Generic family 'serif' not found because none of the following families were found: Times New Roman\n",
      "findfont: Generic family 'serif' not found because none of the following families were found: Times New Roman\n",
      "findfont: Generic family 'serif' not found because none of the following families were found: Times New Roman\n",
      "findfont: Generic family 'serif' not found because none of the following families were found: Times New Roman\n",
      "findfont: Generic family 'serif' not found because none of the following families were found: Times New Roman\n",
      "findfont: Generic family 'serif' not found because none of the following families were found: Times New Roman\n",
      "findfont: Generic family 'serif' not found because none of the following families were found: Times New Roman\n",
      "findfont: Generic family 'serif' not found because none of the following families were found: Times New Roman\n",
      "findfont: Generic family 'serif' not found because none of the following families were found: Times New Roman\n",
      "findfont: Generic family 'serif' not found because none of the following families were found: Times New Roman\n",
      "findfont: Generic family 'serif' not found because none of the following families were found: Times New Roman\n",
      "findfont: Generic family 'serif' not found because none of the following families were found: Times New Roman\n",
      "findfont: Generic family 'serif' not found because none of the following families were found: Times New Roman\n",
      "findfont: Generic family 'serif' not found because none of the following families were found: Times New Roman\n",
      "findfont: Generic family 'serif' not found because none of the following families were found: Times New Roman\n",
      "findfont: Generic family 'serif' not found because none of the following families were found: Times New Roman\n",
      "findfont: Generic family 'serif' not found because none of the following families were found: Times New Roman\n",
      "findfont: Generic family 'serif' not found because none of the following families were found: Times New Roman\n",
      "findfont: Generic family 'serif' not found because none of the following families were found: Times New Roman\n",
      "findfont: Generic family 'serif' not found because none of the following families were found: Times New Roman\n",
      "findfont: Generic family 'serif' not found because none of the following families were found: Times New Roman\n",
      "findfont: Generic family 'serif' not found because none of the following families were found: Times New Roman\n",
      "findfont: Generic family 'serif' not found because none of the following families were found: Times New Roman\n",
      "findfont: Generic family 'serif' not found because none of the following families were found: Times New Roman\n",
      "findfont: Generic family 'serif' not found because none of the following families were found: Times New Roman\n"
     ]
    },
    {
     "data": {
      "image/png": "[encoded data removed]",
      "text/plain": [
       "<Figure size 1000x600 with 1 Axes>"
      ]
     },
     "metadata": {},
     "output_type": "display_data"
    }
   ],
   "source": [
    "data = np.random.standard_normal((5,100)) # Define 'data' before using it\n",
    "plt.figure(figsize=(10, 6))\n",
    "plt.plot(data.cumsum())"
   ]
  }
 ],
 "metadata": {
  "kernelspec": {
   "display_name": "Python 3",
   "language": "python",
   "name": "python3"
  },
  "language_info": {
   "codemirror_mode": {
    "name": "ipython",
    "version": 3
   },
   "file_extension": ".py",
   "mimetype": "text/x-python",
   "name": "python",
   "nbconvert_exporter": "python",
   "pygments_lexer": "ipython3",
   "version": "3.10.13"
  }
 },
 "nbformat": 4,
 "nbformat_minor": 2
}
